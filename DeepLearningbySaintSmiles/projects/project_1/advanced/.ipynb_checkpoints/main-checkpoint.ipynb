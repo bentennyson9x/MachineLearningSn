{
 "cells": [
  {
   "cell_type": "markdown",
   "metadata": {
    "pycharm": {}
   },
   "source": []
  },
  {
   "cell_type": "code",
   "execution_count": 1,
   "metadata": {
    "pycharm": {
     "is_executing": true
    },
    "scrolled": false
   },
   "outputs": [
    {
     "name": "stdout",
     "output_type": "stream",
     "text": [
      "-------> Downloading MNIST dataset\n",
      "-------> Finish\n"
     ]
    }
   ],
   "source": [
    "from utils import load_dataset_mnist\n",
    "from mnist import MNIST\n",
    "from multi_svm import OneVsRestSVM\n",
    "from sklearn.preprocessing import StandardScaler\n",
    "from sklearn.svm import SVC\n",
    "\n",
    "load_dataset_mnist()\n",
    "\n",
    "mndata = MNIST('data_mnist')\n",
    "\n",
    "images, labels = mndata.load_training()"
   ]
  },
  {
   "cell_type": "code",
   "execution_count": 5,
   "metadata": {},
   "outputs": [
    {
     "name": "stdout",
     "output_type": "stream",
     "text": [
      "Number training dataset of class 0 : (5923,) \n",
      "Number training dataset of class 1 : (6742,) \n",
      "Number training dataset of class 2 : (5958,) \n",
      "Number training dataset of class 3 : (6131,) \n",
      "Number training dataset of class 4 : (5842,) \n",
      "Number training dataset of class 5 : (5421,) \n",
      "Number training dataset of class 6 : (5918,) \n",
      "Number training dataset of class 7 : (6265,) \n",
      "Number training dataset of class 8 : (5851,) \n",
      "Number training dataset of class 9 : (5949,) \n"
     ]
    }
   ],
   "source": [
    "import numpy as np\n",
    "\n",
    "labels = np.array(labels)\n",
    "labels_uniq = np.unique(labels)\n",
    "\n",
    "for label in labels_uniq:\n",
    "    print(\"Number training dataset of class %s : %s \" % (label, str(labels[labels == label].shape)))"
   ]
  },
  {
   "cell_type": "code",
   "execution_count": null,
   "metadata": {
    "pycharm": {}
   },
   "outputs": [],
   "source": [
    "one_rest_svm = SVC(C=10.0, kernel='linear')\n",
    "\n",
    "scaler = StandardScaler()\n",
    "scaler.fit(images)\n",
    "images = scaler.transform(images)\n",
    "\n",
    "one_rest_svm.fit(images, labels)"
   ]
  },
  {
   "cell_type": "code",
   "execution_count": null,
   "metadata": {
    "pycharm": {}
   },
   "outputs": [],
   "source": []
  }
 ],
 "metadata": {
  "kernelspec": {
   "display_name": "Python 3",
   "language": "python",
   "name": "python3"
  },
  "language_info": {
   "codemirror_mode": {
    "name": "ipython",
    "version": 3
   },
   "file_extension": ".py",
   "mimetype": "text/x-python",
   "name": "python",
   "nbconvert_exporter": "python",
   "pygments_lexer": "ipython3",
   "version": "3.6.7"
  }
 },
 "nbformat": 4,
 "nbformat_minor": 2
}
